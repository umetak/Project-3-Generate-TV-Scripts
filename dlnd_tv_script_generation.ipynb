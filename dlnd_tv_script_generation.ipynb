{
 "cells": [
  {
   "cell_type": "markdown",
   "metadata": {
    "deletable": true,
    "editable": true
   },
   "source": [
    "# TV Script Generation\n",
    "In this project, you'll generate your own [Simpsons](https://en.wikipedia.org/wiki/The_Simpsons) TV scripts using RNNs.  You'll be using part of the [Simpsons dataset](https://www.kaggle.com/wcukierski/the-simpsons-by-the-data) of scripts from 27 seasons.  The Neural Network you'll build will generate a new TV script for a scene at [Moe's Tavern](https://simpsonswiki.com/wiki/Moe's_Tavern).\n",
    "## Get the Data\n",
    "The data is already provided for you.  You'll be using a subset of the original dataset.  It consists of only the scenes in Moe's Tavern.  This doesn't include other versions of the tavern, like \"Moe's Cavern\", \"Flaming Moe's\", \"Uncle Moe's Family Feed-Bag\", etc.."
   ]
  },
  {
   "cell_type": "code",
   "execution_count": 116,
   "metadata": {
    "collapsed": false,
    "deletable": true,
    "editable": true
   },
   "outputs": [],
   "source": [
    "\"\"\"\n",
    "DON'T MODIFY ANYTHING IN THIS CELL\n",
    "\"\"\"\n",
    "import helper\n",
    "\n",
    "data_dir = './data/simpsons/moes_tavern_lines.txt'\n",
    "text = helper.load_data(data_dir)\n",
    "# Ignore notice, since we don't use it for analysing the data\n",
    "text = text[81:]"
   ]
  },
  {
   "cell_type": "markdown",
   "metadata": {
    "deletable": true,
    "editable": true
   },
   "source": [
    "## Explore the Data\n",
    "Play around with `view_sentence_range` to view different parts of the data."
   ]
  },
  {
   "cell_type": "code",
   "execution_count": 117,
   "metadata": {
    "collapsed": false,
    "deletable": true,
    "editable": true
   },
   "outputs": [
    {
     "name": "stdout",
     "output_type": "stream",
     "text": [
      "Dataset Stats\n",
      "Roughly the number of unique words: 11492\n",
      "Number of scenes: 262\n",
      "Average number of sentences in each scene: 15.251908396946565\n",
      "Number of lines: 4258\n",
      "Average number of words in each line: 11.50164396430249\n",
      "\n",
      "The sentences 0 to 10:\n",
      "\n",
      "Moe_Szyslak: (INTO PHONE) Moe's Tavern. Where the elite meet to drink.\n",
      "Bart_Simpson: Eh, yeah, hello, is Mike there? Last name, Rotch.\n",
      "Moe_Szyslak: (INTO PHONE) Hold on, I'll check. (TO BARFLIES) Mike Rotch. Mike Rotch. Hey, has anybody seen Mike Rotch, lately?\n",
      "Moe_Szyslak: (INTO PHONE) Listen you little puke. One of these days I'm gonna catch you, and I'm gonna carve my name on your back with an ice pick.\n",
      "Moe_Szyslak: What's the matter Homer? You're not your normal effervescent self.\n",
      "Homer_Simpson: I got my problems, Moe. Give me another one.\n",
      "Moe_Szyslak: Homer, hey, you should not drink to forget your problems.\n",
      "Barney_Gumble: Yeah, you should only drink to enhance your social skills.\n",
      "\n"
     ]
    }
   ],
   "source": [
    "view_sentence_range = (0, 10)\n",
    "\n",
    "\"\"\"\n",
    "DON'T MODIFY ANYTHING IN THIS CELL\n",
    "\"\"\"\n",
    "import numpy as np\n",
    "\n",
    "print('Dataset Stats')\n",
    "print('Roughly the number of unique words: {}'.format(len({word: None for word in text.split()})))\n",
    "scenes = text.split('\\n\\n')\n",
    "print('Number of scenes: {}'.format(len(scenes)))\n",
    "sentence_count_scene = [scene.count('\\n') for scene in scenes]\n",
    "print('Average number of sentences in each scene: {}'.format(np.average(sentence_count_scene)))\n",
    "\n",
    "sentences = [sentence for scene in scenes for sentence in scene.split('\\n')]\n",
    "print('Number of lines: {}'.format(len(sentences)))\n",
    "word_count_sentence = [len(sentence.split()) for sentence in sentences]\n",
    "print('Average number of words in each line: {}'.format(np.average(word_count_sentence)))\n",
    "\n",
    "print()\n",
    "print('The sentences {} to {}:'.format(*view_sentence_range))\n",
    "print('\\n'.join(text.split('\\n')[view_sentence_range[0]:view_sentence_range[1]]))"
   ]
  },
  {
   "cell_type": "markdown",
   "metadata": {
    "deletable": true,
    "editable": true
   },
   "source": [
    "## Implement Preprocessing Functions\n",
    "The first thing to do to any dataset is preprocessing.  Implement the following preprocessing functions below:\n",
    "- Lookup Table\n",
    "- Tokenize Punctuation\n",
    "\n",
    "### Lookup Table\n",
    "To create a word embedding, you first need to transform the words to ids.  In this function, create two dictionaries:\n",
    "- Dictionary to go from the words to an id, we'll call `vocab_to_int`\n",
    "- Dictionary to go from the id to word, we'll call `int_to_vocab`\n",
    "\n",
    "Return these dictionaries in the following tuple `(vocab_to_int, int_to_vocab)`"
   ]
  },
  {
   "cell_type": "code",
   "execution_count": 118,
   "metadata": {
    "collapsed": false,
    "deletable": true,
    "editable": true
   },
   "outputs": [
    {
     "name": "stdout",
     "output_type": "stream",
     "text": [
      "Tests Passed\n"
     ]
    }
   ],
   "source": [
    "import numpy as np\n",
    "import problem_unittests as tests\n",
    "\n",
    "def create_lookup_tables(text):\n",
    "    \"\"\"\n",
    "    Create lookup tables for vocabulary\n",
    "    :param text: The text of tv scripts split into words\n",
    "    :return: A tuple of dicts (vocab_to_int, int_to_vocab)\n",
    "    \"\"\"\n",
    "    # TODO: Implement Function\n",
    "    text = set(text)\n",
    "    vocab_to_int = {}\n",
    "    int_to_vocab = {}\n",
    "    for cnt, item in enumerate(text): \n",
    "        vocab_to_int.update({item:cnt})\n",
    "        int_to_vocab.update({cnt:item})\n",
    "    return (vocab_to_int, int_to_vocab)\n",
    "\n",
    "\n",
    "\"\"\"\n",
    "DON'T MODIFY ANYTHING IN THIS CELL THAT IS BELOW THIS LINE\n",
    "\"\"\"\n",
    "tests.test_create_lookup_tables(create_lookup_tables)"
   ]
  },
  {
   "cell_type": "markdown",
   "metadata": {
    "deletable": true,
    "editable": true
   },
   "source": [
    "### Tokenize Punctuation\n",
    "We'll be splitting the script into a word array using spaces as delimiters.  However, punctuations like periods and exclamation marks make it hard for the neural network to distinguish between the word \"bye\" and \"bye!\".\n",
    "\n",
    "Implement the function `token_lookup` to return a dict that will be used to tokenize symbols like \"!\" into \"||Exclamation_Mark||\".  Create a dictionary for the following symbols where the symbol is the key and value is the token:\n",
    "- Period ( . )\n",
    "- Comma ( , )\n",
    "- Quotation Mark ( \" )\n",
    "- Semicolon ( ; )\n",
    "- Exclamation mark ( ! )\n",
    "- Question mark ( ? )\n",
    "- Left Parentheses ( ( )\n",
    "- Right Parentheses ( ) )\n",
    "- Dash ( -- )\n",
    "- Return ( \\n )\n",
    "\n",
    "This dictionary will be used to token the symbols and add the delimiter (space) around it.  This separates the symbols as it's own word, making it easier for the neural network to predict on the next word. Make sure you don't use a token that could be confused as a word. Instead of using the token \"dash\", try using something like \"||dash||\"."
   ]
  },
  {
   "cell_type": "code",
   "execution_count": 119,
   "metadata": {
    "collapsed": false,
    "deletable": true,
    "editable": true
   },
   "outputs": [
    {
     "name": "stdout",
     "output_type": "stream",
     "text": [
      "Tests Passed\n"
     ]
    }
   ],
   "source": [
    "def token_lookup():\n",
    "    \"\"\"\n",
    "    Generate a dict to turn punctuation into a token.\n",
    "    :return: Tokenize dictionary where the key is the punctuation and the value is the token\n",
    "    \"\"\"\n",
    "    # TODO: Implement Function\n",
    "    return {'.':'||Period||', '(':'||LeftParentheses||', '\"':'||QuotationMark||', '--':'||Dash||', ';':'||Semicolon||',',':'||Comma||', '?':'||Questionmark||', '!':'||Exclamationmark||', ')':'||RightParentheses||', '\\n':'||Return||'}\n",
    "\n",
    "\"\"\"\n",
    "DON'T MODIFY ANYTHING IN THIS CELL THAT IS BELOW THIS LINE\n",
    "\"\"\"\n",
    "tests.test_tokenize(token_lookup)"
   ]
  },
  {
   "cell_type": "markdown",
   "metadata": {
    "deletable": true,
    "editable": true
   },
   "source": [
    "## Preprocess all the data and save it\n",
    "Running the code cell below will preprocess all the data and save it to file."
   ]
  },
  {
   "cell_type": "code",
   "execution_count": 120,
   "metadata": {
    "collapsed": false,
    "deletable": true,
    "editable": true
   },
   "outputs": [],
   "source": [
    "\"\"\"\n",
    "DON'T MODIFY ANYTHING IN THIS CELL\n",
    "\"\"\"\n",
    "# Preprocess Training, Validation, and Testing Data\n",
    "helper.preprocess_and_save_data(data_dir, token_lookup, create_lookup_tables)"
   ]
  },
  {
   "cell_type": "markdown",
   "metadata": {
    "deletable": true,
    "editable": true
   },
   "source": [
    "# Check Point\n",
    "This is your first checkpoint. If you ever decide to come back to this notebook or have to restart the notebook, you can start from here. The preprocessed data has been saved to disk."
   ]
  },
  {
   "cell_type": "code",
   "execution_count": 121,
   "metadata": {
    "collapsed": false,
    "deletable": true,
    "editable": true
   },
   "outputs": [],
   "source": [
    "\"\"\"\n",
    "DON'T MODIFY ANYTHING IN THIS CELL\n",
    "\"\"\"\n",
    "import helper\n",
    "import numpy as np\n",
    "import problem_unittests as tests\n",
    "\n",
    "int_text, vocab_to_int, int_to_vocab, token_dict = helper.load_preprocess()"
   ]
  },
  {
   "cell_type": "markdown",
   "metadata": {
    "deletable": true,
    "editable": true
   },
   "source": [
    "## Build the Neural Network\n",
    "You'll build the components necessary to build a RNN by implementing the following functions below:\n",
    "- get_inputs\n",
    "- get_init_cell\n",
    "- get_embed\n",
    "- build_rnn\n",
    "- build_nn\n",
    "- get_batches\n",
    "\n",
    "### Check the Version of TensorFlow and Access to GPU"
   ]
  },
  {
   "cell_type": "code",
   "execution_count": 122,
   "metadata": {
    "collapsed": false
   },
   "outputs": [
    {
     "name": "stdout",
     "output_type": "stream",
     "text": [
      "TensorFlow Version: 1.0.1\n",
      "Default GPU Device: /gpu:0\n"
     ]
    }
   ],
   "source": [
    "\"\"\"\n",
    "DON'T MODIFY ANYTHING IN THIS CELL\n",
    "\"\"\"\n",
    "from distutils.version import LooseVersion\n",
    "import warnings\n",
    "import tensorflow as tf\n",
    "\n",
    "# Check TensorFlow Version\n",
    "assert LooseVersion(tf.__version__) >= LooseVersion('1.0'), 'Please use TensorFlow version 1.0 or newer'\n",
    "print('TensorFlow Version: {}'.format(tf.__version__))\n",
    "\n",
    "# Check for a GPU\n",
    "if not tf.test.gpu_device_name():\n",
    "    warnings.warn('No GPU found. Please use a GPU to train your neural network.')\n",
    "else:\n",
    "    print('Default GPU Device: {}'.format(tf.test.gpu_device_name()))"
   ]
  },
  {
   "cell_type": "markdown",
   "metadata": {},
   "source": [
    "### Input\n",
    "Implement the `get_inputs()` function to create TF Placeholders for the Neural Network.  It should create the following placeholders:\n",
    "- Input text placeholder named \"input\" using the [TF Placeholder](https://www.tensorflow.org/api_docs/python/tf/placeholder) `name` parameter.\n",
    "- Targets placeholder\n",
    "- Learning Rate placeholder\n",
    "\n",
    "Return the placeholders in the following the tuple `(Input, Targets, LearingRate)`"
   ]
  },
  {
   "cell_type": "code",
   "execution_count": 123,
   "metadata": {
    "collapsed": false,
    "deletable": true,
    "editable": true
   },
   "outputs": [
    {
     "name": "stdout",
     "output_type": "stream",
     "text": [
      "Tests Passed\n"
     ]
    }
   ],
   "source": [
    "def get_inputs():\n",
    "    \"\"\"\n",
    "    Create TF Placeholders for input, targets, and learning rate.\n",
    "    :return: Tuple (input, targets, learning rate)\n",
    "    \"\"\"\n",
    "    # TODO: Implement Function\n",
    "    Input = tf.placeholder(tf.int32, shape=[None, None], name='input')\n",
    "    Targets = tf.placeholder(tf.int32, shape=[None, None])\n",
    "    LearingRate = tf.placeholder(tf.float32)\n",
    "    return (Input, Targets, LearingRate)\n",
    "\n",
    "\"\"\"\n",
    "DON'T MODIFY ANYTHING IN THIS CELL THAT IS BELOW THIS LINE\n",
    "\"\"\"\n",
    "tests.test_get_inputs(get_inputs)"
   ]
  },
  {
   "cell_type": "markdown",
   "metadata": {
    "deletable": true,
    "editable": true
   },
   "source": [
    "### Build RNN Cell and Initialize\n",
    "Stack one or more [`BasicLSTMCells`](https://www.tensorflow.org/api_docs/python/tf/contrib/rnn/BasicLSTMCell) in a [`MultiRNNCell`](https://www.tensorflow.org/api_docs/python/tf/contrib/rnn/MultiRNNCell).\n",
    "- The Rnn size should be set using `rnn_size`\n",
    "- Initalize Cell State using the MultiRNNCell's [`zero_state()`](https://www.tensorflow.org/api_docs/python/tf/contrib/rnn/MultiRNNCell#zero_state) function\n",
    "    - Apply the name \"initial_state\" to the initial state using [`tf.identity()`](https://www.tensorflow.org/api_docs/python/tf/identity)\n",
    "\n",
    "Return the cell and initial state in the following tuple `(Cell, InitialState)`"
   ]
  },
  {
   "cell_type": "code",
   "execution_count": 124,
   "metadata": {
    "collapsed": false,
    "deletable": true,
    "editable": true
   },
   "outputs": [
    {
     "name": "stdout",
     "output_type": "stream",
     "text": [
      "Tests Passed\n"
     ]
    }
   ],
   "source": [
    "def get_init_cell(batch_size, rnn_size):\n",
    "    \"\"\"\n",
    "    Create an RNN Cell and initialize it.\n",
    "    :param batch_size: Size of batches\n",
    "    :param rnn_size: Size of RNNs\n",
    "    :return: Tuple (cell, initialize state)\n",
    "    \"\"\"\n",
    "    # TODO: Implement Function\n",
    "\n",
    "    # basic LSTM cell\n",
    "    lstm = tf.contrib.rnn.BasicLSTMCell(rnn_size)\n",
    "\n",
    "    # Stack up multiple LSTM layers\n",
    "    cell = tf.contrib.rnn.MultiRNNCell([lstm]* 3)\n",
    "    initial_state = tf.identity(cell.zero_state(batch_size, tf.float32), name='initial_state')\n",
    "    \n",
    "    return (cell, initial_state)\n",
    "\n",
    "\n",
    "\"\"\"\n",
    "DON'T MODIFY ANYTHING IN THIS CELL THAT IS BELOW THIS LINE\n",
    "\"\"\"\n",
    "tests.test_get_init_cell(get_init_cell)"
   ]
  },
  {
   "cell_type": "markdown",
   "metadata": {
    "deletable": true,
    "editable": true
   },
   "source": [
    "### Word Embedding\n",
    "Apply embedding to `input_data` using TensorFlow.  Return the embedded sequence."
   ]
  },
  {
   "cell_type": "code",
   "execution_count": 125,
   "metadata": {
    "collapsed": false,
    "deletable": true,
    "editable": true
   },
   "outputs": [
    {
     "name": "stdout",
     "output_type": "stream",
     "text": [
      "Tests Passed\n"
     ]
    }
   ],
   "source": [
    "def get_embed(input_data, vocab_size, embed_dim):\n",
    "    \"\"\"\n",
    "    Create embedding for <input_data>.\n",
    "    :param input_data: TF placeholder for text input.\n",
    "    :param vocab_size: Number of words in vocabulary.\n",
    "    :param embed_dim: Number of embedding dimensions\n",
    "    :return: Embedded input.\n",
    "    \"\"\"\n",
    "    # TODO: Implement Function\n",
    "    embedding = tf.Variable(tf.random_uniform((vocab_size, embed_dim), -1, 1))\n",
    "    embed = tf.nn.embedding_lookup(embedding, input_data)\n",
    "    \n",
    "    return embed\n",
    "\n",
    "\n",
    "\"\"\"\n",
    "DON'T MODIFY ANYTHING IN THIS CELL THAT IS BELOW THIS LINE\n",
    "\"\"\"\n",
    "tests.test_get_embed(get_embed)"
   ]
  },
  {
   "cell_type": "markdown",
   "metadata": {
    "deletable": true,
    "editable": true
   },
   "source": [
    "### Build RNN\n",
    "You created a RNN Cell in the `get_init_cell()` function.  Time to use the cell to create a RNN.\n",
    "- Build the RNN using the [`tf.nn.dynamic_rnn()`](https://www.tensorflow.org/api_docs/python/tf/nn/dynamic_rnn)\n",
    " - Apply the name \"final_state\" to the final state using [`tf.identity()`](https://www.tensorflow.org/api_docs/python/tf/identity)\n",
    "\n",
    "Return the outputs and final_state state in the following tuple `(Outputs, FinalState)` "
   ]
  },
  {
   "cell_type": "code",
   "execution_count": 126,
   "metadata": {
    "collapsed": false,
    "deletable": true,
    "editable": true
   },
   "outputs": [
    {
     "name": "stdout",
     "output_type": "stream",
     "text": [
      "Tests Passed\n"
     ]
    }
   ],
   "source": [
    "def build_rnn(cell, inputs):\n",
    "    \"\"\"\n",
    "    Create a RNN using a RNN Cell\n",
    "    :param cell: RNN Cell\n",
    "    :param inputs: Input text data\n",
    "    :return: Tuple (Outputs, Final State)\n",
    "    \"\"\"\n",
    "    # TODO: Implement Function\n",
    "    Outputs, state= tf.nn.dynamic_rnn(cell, inputs, dtype=tf.float32)\n",
    "    FinalState = tf.identity(state, name='final_state')\n",
    "    \n",
    "    return (Outputs, FinalState)\n",
    "\n",
    "\n",
    "\"\"\"\n",
    "DON'T MODIFY ANYTHING IN THIS CELL THAT IS BELOW THIS LINE\n",
    "\"\"\"\n",
    "tests.test_build_rnn(build_rnn)"
   ]
  },
  {
   "cell_type": "markdown",
   "metadata": {
    "deletable": true,
    "editable": true
   },
   "source": [
    "### Build the Neural Network\n",
    "Apply the functions you implemented above to:\n",
    "- Apply embedding to `input_data` using your `get_embed(input_data, vocab_size, embed_dim)` function.\n",
    "- Build RNN using `cell` and your `build_rnn(cell, inputs)` function.\n",
    "- Apply a fully connected layer with a linear activation and `vocab_size` as the number of outputs.\n",
    "\n",
    "Return the logits and final state in the following tuple (Logits, FinalState) "
   ]
  },
  {
   "cell_type": "code",
   "execution_count": 127,
   "metadata": {
    "collapsed": false,
    "deletable": true,
    "editable": true
   },
   "outputs": [
    {
     "name": "stdout",
     "output_type": "stream",
     "text": [
      "Tests Passed\n"
     ]
    }
   ],
   "source": [
    "def build_nn(cell, rnn_size, input_data, vocab_size):\n",
    "    \"\"\"\n",
    "    Build part of the neural network\n",
    "    :param cell: RNN cell\n",
    "    :param rnn_size: Size of rnns\n",
    "    :param input_data: Input data\n",
    "    :param vocab_size: Vocabulary size\n",
    "    :return: Tuple (Logits, FinalState)\n",
    "    \"\"\"\n",
    "    # TODO: Implement Function\n",
    "    inputs = get_embed(input_data, vocab_size, rnn_size)\n",
    "    outputs, final_state = build_rnn(cell, inputs)\n",
    "    logits = tf.contrib.layers.fully_connected(outputs, vocab_size, weights_initializer = tf.truncated_normal_initializer(stddev = 0.01), activation_fn=None)\n",
    "    \n",
    "    return (logits, final_state)\n",
    "\n",
    "\n",
    "\"\"\"\n",
    "DON'T MODIFY ANYTHING IN THIS CELL THAT IS BELOW THIS LINE\n",
    "\"\"\"\n",
    "tests.test_build_nn(build_nn)"
   ]
  },
  {
   "cell_type": "markdown",
   "metadata": {
    "deletable": true,
    "editable": true
   },
   "source": [
    "### Batches\n",
    "Implement `get_batches` to create batches of input and targets using `int_text`.  The batches should be a Numpy array with the shape `(number of batches, 2, batch size, sequence length)`. Each batch contains two elements:\n",
    "- The first element is a single batch of **input** with the shape `[batch size, sequence length]`\n",
    "- The second element is a single batch of **targets** with the shape `[batch size, sequence length]`\n",
    "\n",
    "If you can't fill the last batch with enough data, drop the last batch.\n",
    "\n",
    "For exmple, `get_batches([1, 2, 3, 4, 5, 6, 7, 8, 9, 10, 11, 12, 13, 14, 15], 2, 3)` would return a Numpy array of the following:\n",
    "```\n",
    "[\n",
    "  # First Batch\n",
    "  [\n",
    "    # Batch of Input\n",
    "    [[ 1  2  3], [ 7  8  9]],\n",
    "    # Batch of targets\n",
    "    [[ 2  3  4], [ 8  9 10]]\n",
    "  ],\n",
    " \n",
    "  # Second Batch\n",
    "  [\n",
    "    # Batch of Input\n",
    "    [[ 4  5  6], [10 11 12]],\n",
    "    # Batch of targets\n",
    "    [[ 5  6  7], [11 12 13]]\n",
    "  ]\n",
    "]\n",
    "```"
   ]
  },
  {
   "cell_type": "code",
   "execution_count": 128,
   "metadata": {
    "collapsed": false,
    "deletable": true,
    "editable": true
   },
   "outputs": [
    {
     "name": "stdout",
     "output_type": "stream",
     "text": [
      "Tests Passed\n"
     ]
    }
   ],
   "source": [
    "def get_batches(int_text, batch_size, seq_length):\n",
    "    \"\"\"\n",
    "    Return batches of input and target\n",
    "    :param int_text: Text with the words replaced by their ids\n",
    "    :param batch_size: The size of batch\n",
    "    :param seq_length: The length of sequence\n",
    "    :return: Batches as a Numpy array\n",
    "    \"\"\"\n",
    "    # TODO: Implement Function\n",
    "    n_batches = len(int_text)//(batch_size*seq_length)\n",
    "    batches = np.ndarray(shape=(n_batches, 2, batch_size, seq_length), dtype=int)\n",
    "    skipsize = n_batches*seq_length    \n",
    "\n",
    "    for i in range(n_batches):\n",
    "        batch_idx = i*seq_length\n",
    "        \n",
    "        for j in range(batch_size):\n",
    "            idx = batch_idx + j*skipsize       \n",
    "            batches[i][0][j] = int_text[idx : idx+seq_length]\n",
    "            batches[i][1][j] = int_text[idx+1 : idx+1+seq_length]    \n",
    "            \n",
    "    return batches\n",
    "\n",
    "\n",
    "\"\"\"\n",
    "DON'T MODIFY ANYTHING IN THIS CELL THAT IS BELOW THIS LINE\n",
    "\"\"\"\n",
    "tests.test_get_batches(get_batches)"
   ]
  },
  {
   "cell_type": "markdown",
   "metadata": {
    "deletable": true,
    "editable": true
   },
   "source": [
    "## Neural Network Training\n",
    "### Hyperparameters\n",
    "Tune the following parameters:\n",
    "\n",
    "- Set `num_epochs` to the number of epochs.\n",
    "- Set `batch_size` to the batch size.\n",
    "- Set `rnn_size` to the size of the RNNs.\n",
    "- Set `seq_length` to the length of sequence.\n",
    "- Set `learning_rate` to the learning rate.\n",
    "- Set `show_every_n_batches` to the number of batches the neural network should print progress."
   ]
  },
  {
   "cell_type": "code",
   "execution_count": 153,
   "metadata": {
    "collapsed": true,
    "deletable": true,
    "editable": true
   },
   "outputs": [],
   "source": [
    "# Number of Epochs\n",
    "num_epochs = 20\n",
    "# Batch Size\n",
    "batch_size = 10\n",
    "# RNN Size\n",
    "rnn_size = 256\n",
    "# Sequence Length\n",
    "seq_length = 5\n",
    "# Learning Rate\n",
    "learning_rate = 0.001\n",
    "# Show stats for every n number of batches\n",
    "show_every_n_batches = 100\n",
    "\n",
    "\"\"\"\n",
    "DON'T MODIFY ANYTHING IN THIS CELL THAT IS BELOW THIS LINE\n",
    "\"\"\"\n",
    "save_dir = './save'"
   ]
  },
  {
   "cell_type": "markdown",
   "metadata": {
    "deletable": true,
    "editable": true
   },
   "source": [
    "### Build the Graph\n",
    "Build the graph using the neural network you implemented."
   ]
  },
  {
   "cell_type": "code",
   "execution_count": 154,
   "metadata": {
    "collapsed": false,
    "deletable": true,
    "editable": true
   },
   "outputs": [],
   "source": [
    "\"\"\"\n",
    "DON'T MODIFY ANYTHING IN THIS CELL\n",
    "\"\"\"\n",
    "from tensorflow.contrib import seq2seq\n",
    "\n",
    "train_graph = tf.Graph()\n",
    "with train_graph.as_default():\n",
    "    vocab_size = len(int_to_vocab)\n",
    "    input_text, targets, lr = get_inputs()\n",
    "    input_data_shape = tf.shape(input_text)\n",
    "    cell, initial_state = get_init_cell(input_data_shape[0], rnn_size)\n",
    "    logits, final_state = build_nn(cell, rnn_size, input_text, vocab_size)\n",
    "\n",
    "    # Probabilities for generating words\n",
    "    probs = tf.nn.softmax(logits, name='probs')\n",
    "\n",
    "    # Loss function\n",
    "    cost = seq2seq.sequence_loss(\n",
    "        logits,\n",
    "        targets,\n",
    "        tf.ones([input_data_shape[0], input_data_shape[1]]))\n",
    "\n",
    "    # Optimizer\n",
    "    optimizer = tf.train.AdamOptimizer(lr)\n",
    "\n",
    "    # Gradient Clipping\n",
    "    gradients = optimizer.compute_gradients(cost)\n",
    "    capped_gradients = [(tf.clip_by_value(grad, -1., 1.), var) for grad, var in gradients]\n",
    "    train_op = optimizer.apply_gradients(capped_gradients)"
   ]
  },
  {
   "cell_type": "markdown",
   "metadata": {
    "deletable": true,
    "editable": true
   },
   "source": [
    "## Train\n",
    "Train the neural network on the preprocessed data.  If you have a hard time getting a good loss, check the [forms](https://discussions.udacity.com/) to see if anyone is having the same problem."
   ]
  },
  {
   "cell_type": "code",
   "execution_count": 155,
   "metadata": {
    "collapsed": false,
    "deletable": true,
    "editable": true,
    "scrolled": false
   },
   "outputs": [
    {
     "name": "stdout",
     "output_type": "stream",
     "text": [
      "Epoch   0 Batch    0/1382   train_loss = 8.822\n",
      "Epoch   0 Batch  100/1382   train_loss = 6.773\n",
      "Epoch   0 Batch  200/1382   train_loss = 6.125\n",
      "Epoch   0 Batch  300/1382   train_loss = 5.893\n",
      "Epoch   0 Batch  400/1382   train_loss = 6.010\n",
      "Epoch   0 Batch  500/1382   train_loss = 6.062\n",
      "Epoch   0 Batch  600/1382   train_loss = 5.560\n",
      "Epoch   0 Batch  700/1382   train_loss = 5.684\n",
      "Epoch   0 Batch  800/1382   train_loss = 6.566\n",
      "Epoch   0 Batch  900/1382   train_loss = 4.687\n",
      "Epoch   0 Batch 1000/1382   train_loss = 5.492\n",
      "Epoch   0 Batch 1100/1382   train_loss = 6.000\n",
      "Epoch   0 Batch 1200/1382   train_loss = 5.691\n",
      "Epoch   0 Batch 1300/1382   train_loss = 6.630\n",
      "Epoch   1 Batch   18/1382   train_loss = 5.326\n",
      "Epoch   1 Batch  118/1382   train_loss = 5.829\n",
      "Epoch   1 Batch  218/1382   train_loss = 3.871\n",
      "Epoch   1 Batch  318/1382   train_loss = 5.439\n",
      "Epoch   1 Batch  418/1382   train_loss = 5.065\n",
      "Epoch   1 Batch  518/1382   train_loss = 5.470\n",
      "Epoch   1 Batch  618/1382   train_loss = 5.423\n",
      "Epoch   1 Batch  718/1382   train_loss = 4.671\n",
      "Epoch   1 Batch  818/1382   train_loss = 4.861\n",
      "Epoch   1 Batch  918/1382   train_loss = 4.718\n",
      "Epoch   1 Batch 1018/1382   train_loss = 4.693\n",
      "Epoch   1 Batch 1118/1382   train_loss = 4.427\n",
      "Epoch   1 Batch 1218/1382   train_loss = 4.498\n",
      "Epoch   1 Batch 1318/1382   train_loss = 3.574\n",
      "Epoch   2 Batch   36/1382   train_loss = 4.412\n",
      "Epoch   2 Batch  136/1382   train_loss = 5.223\n",
      "Epoch   2 Batch  236/1382   train_loss = 3.655\n",
      "Epoch   2 Batch  336/1382   train_loss = 4.840\n",
      "Epoch   2 Batch  436/1382   train_loss = 4.801\n",
      "Epoch   2 Batch  536/1382   train_loss = 5.138\n",
      "Epoch   2 Batch  636/1382   train_loss = 4.622\n",
      "Epoch   2 Batch  736/1382   train_loss = 5.024\n",
      "Epoch   2 Batch  836/1382   train_loss = 4.115\n",
      "Epoch   2 Batch  936/1382   train_loss = 4.428\n",
      "Epoch   2 Batch 1036/1382   train_loss = 3.699\n",
      "Epoch   2 Batch 1136/1382   train_loss = 3.810\n",
      "Epoch   2 Batch 1236/1382   train_loss = 4.932\n",
      "Epoch   2 Batch 1336/1382   train_loss = 5.165\n",
      "Epoch   3 Batch   54/1382   train_loss = 4.128\n",
      "Epoch   3 Batch  154/1382   train_loss = 5.146\n",
      "Epoch   3 Batch  254/1382   train_loss = 5.634\n",
      "Epoch   3 Batch  354/1382   train_loss = 3.930\n",
      "Epoch   3 Batch  454/1382   train_loss = 4.857\n",
      "Epoch   3 Batch  554/1382   train_loss = 4.381\n",
      "Epoch   3 Batch  654/1382   train_loss = 4.305\n",
      "Epoch   3 Batch  754/1382   train_loss = 4.166\n",
      "Epoch   3 Batch  854/1382   train_loss = 4.773\n",
      "Epoch   3 Batch  954/1382   train_loss = 4.221\n",
      "Epoch   3 Batch 1054/1382   train_loss = 4.665\n",
      "Epoch   3 Batch 1154/1382   train_loss = 4.274\n",
      "Epoch   3 Batch 1254/1382   train_loss = 3.217\n",
      "Epoch   3 Batch 1354/1382   train_loss = 4.520\n",
      "Epoch   4 Batch   72/1382   train_loss = 3.739\n",
      "Epoch   4 Batch  172/1382   train_loss = 4.560\n",
      "Epoch   4 Batch  272/1382   train_loss = 4.358\n",
      "Epoch   4 Batch  372/1382   train_loss = 3.468\n",
      "Epoch   4 Batch  472/1382   train_loss = 3.888\n",
      "Epoch   4 Batch  572/1382   train_loss = 3.863\n",
      "Epoch   4 Batch  672/1382   train_loss = 4.228\n",
      "Epoch   4 Batch  772/1382   train_loss = 3.604\n",
      "Epoch   4 Batch  872/1382   train_loss = 4.260\n",
      "Epoch   4 Batch  972/1382   train_loss = 4.386\n",
      "Epoch   4 Batch 1072/1382   train_loss = 4.467\n",
      "Epoch   4 Batch 1172/1382   train_loss = 3.840\n",
      "Epoch   4 Batch 1272/1382   train_loss = 3.377\n",
      "Epoch   4 Batch 1372/1382   train_loss = 3.208\n",
      "Epoch   5 Batch   90/1382   train_loss = 3.979\n",
      "Epoch   5 Batch  190/1382   train_loss = 3.713\n",
      "Epoch   5 Batch  290/1382   train_loss = 3.332\n",
      "Epoch   5 Batch  390/1382   train_loss = 3.806\n",
      "Epoch   5 Batch  490/1382   train_loss = 3.447\n",
      "Epoch   5 Batch  590/1382   train_loss = 3.422\n",
      "Epoch   5 Batch  690/1382   train_loss = 3.798\n",
      "Epoch   5 Batch  790/1382   train_loss = 2.928\n",
      "Epoch   5 Batch  890/1382   train_loss = 3.797\n",
      "Epoch   5 Batch  990/1382   train_loss = 3.707\n",
      "Epoch   5 Batch 1090/1382   train_loss = 3.738\n",
      "Epoch   5 Batch 1190/1382   train_loss = 3.291\n",
      "Epoch   5 Batch 1290/1382   train_loss = 3.407\n",
      "Epoch   6 Batch    8/1382   train_loss = 3.399\n",
      "Epoch   6 Batch  108/1382   train_loss = 3.948\n",
      "Epoch   6 Batch  208/1382   train_loss = 3.469\n",
      "Epoch   6 Batch  308/1382   train_loss = 3.039\n",
      "Epoch   6 Batch  408/1382   train_loss = 3.083\n",
      "Epoch   6 Batch  508/1382   train_loss = 3.277\n",
      "Epoch   6 Batch  608/1382   train_loss = 3.500\n",
      "Epoch   6 Batch  708/1382   train_loss = 3.201\n",
      "Epoch   6 Batch  808/1382   train_loss = 3.172\n",
      "Epoch   6 Batch  908/1382   train_loss = 3.305\n",
      "Epoch   6 Batch 1008/1382   train_loss = 3.869\n",
      "Epoch   6 Batch 1108/1382   train_loss = 3.408\n",
      "Epoch   6 Batch 1208/1382   train_loss = 3.332\n",
      "Epoch   6 Batch 1308/1382   train_loss = 3.353\n",
      "Epoch   7 Batch   26/1382   train_loss = 3.579\n",
      "Epoch   7 Batch  126/1382   train_loss = 3.328\n",
      "Epoch   7 Batch  226/1382   train_loss = 3.649\n",
      "Epoch   7 Batch  326/1382   train_loss = 3.287\n",
      "Epoch   7 Batch  426/1382   train_loss = 2.992\n",
      "Epoch   7 Batch  526/1382   train_loss = 3.104\n",
      "Epoch   7 Batch  626/1382   train_loss = 2.418\n",
      "Epoch   7 Batch  726/1382   train_loss = 3.120\n",
      "Epoch   7 Batch  826/1382   train_loss = 3.520\n",
      "Epoch   7 Batch  926/1382   train_loss = 3.049\n",
      "Epoch   7 Batch 1026/1382   train_loss = 3.290\n",
      "Epoch   7 Batch 1126/1382   train_loss = 2.765\n",
      "Epoch   7 Batch 1226/1382   train_loss = 2.713\n",
      "Epoch   7 Batch 1326/1382   train_loss = 2.668\n",
      "Epoch   8 Batch   44/1382   train_loss = 3.291\n",
      "Epoch   8 Batch  144/1382   train_loss = 3.054\n",
      "Epoch   8 Batch  244/1382   train_loss = 2.867\n",
      "Epoch   8 Batch  344/1382   train_loss = 2.630\n",
      "Epoch   8 Batch  444/1382   train_loss = 2.608\n",
      "Epoch   8 Batch  544/1382   train_loss = 2.736\n",
      "Epoch   8 Batch  644/1382   train_loss = 3.058\n",
      "Epoch   8 Batch  744/1382   train_loss = 2.634\n",
      "Epoch   8 Batch  844/1382   train_loss = 2.665\n",
      "Epoch   8 Batch  944/1382   train_loss = 3.085\n",
      "Epoch   8 Batch 1044/1382   train_loss = 2.647\n",
      "Epoch   8 Batch 1144/1382   train_loss = 2.688\n",
      "Epoch   8 Batch 1244/1382   train_loss = 3.025\n",
      "Epoch   8 Batch 1344/1382   train_loss = 2.278\n",
      "Epoch   9 Batch   62/1382   train_loss = 2.447\n",
      "Epoch   9 Batch  162/1382   train_loss = 2.365\n",
      "Epoch   9 Batch  262/1382   train_loss = 2.946\n",
      "Epoch   9 Batch  362/1382   train_loss = 2.622\n",
      "Epoch   9 Batch  462/1382   train_loss = 2.810\n",
      "Epoch   9 Batch  562/1382   train_loss = 2.193\n",
      "Epoch   9 Batch  662/1382   train_loss = 2.590\n",
      "Epoch   9 Batch  762/1382   train_loss = 2.348\n",
      "Epoch   9 Batch  862/1382   train_loss = 2.653\n",
      "Epoch   9 Batch  962/1382   train_loss = 2.149\n",
      "Epoch   9 Batch 1062/1382   train_loss = 2.120\n",
      "Epoch   9 Batch 1162/1382   train_loss = 2.573\n",
      "Epoch   9 Batch 1262/1382   train_loss = 2.494\n",
      "Epoch   9 Batch 1362/1382   train_loss = 2.213\n",
      "Epoch  10 Batch   80/1382   train_loss = 2.284\n",
      "Epoch  10 Batch  180/1382   train_loss = 2.291\n",
      "Epoch  10 Batch  280/1382   train_loss = 2.269\n",
      "Epoch  10 Batch  380/1382   train_loss = 2.404\n",
      "Epoch  10 Batch  480/1382   train_loss = 2.240\n",
      "Epoch  10 Batch  580/1382   train_loss = 2.577\n",
      "Epoch  10 Batch  680/1382   train_loss = 2.580\n",
      "Epoch  10 Batch  780/1382   train_loss = 2.349\n",
      "Epoch  10 Batch  880/1382   train_loss = 2.456\n",
      "Epoch  10 Batch  980/1382   train_loss = 2.336\n",
      "Epoch  10 Batch 1080/1382   train_loss = 2.397\n",
      "Epoch  10 Batch 1180/1382   train_loss = 2.006\n",
      "Epoch  10 Batch 1280/1382   train_loss = 2.453\n",
      "Epoch  10 Batch 1380/1382   train_loss = 2.425\n",
      "Epoch  11 Batch   98/1382   train_loss = 2.108\n",
      "Epoch  11 Batch  198/1382   train_loss = 2.369\n",
      "Epoch  11 Batch  298/1382   train_loss = 2.358\n",
      "Epoch  11 Batch  398/1382   train_loss = 2.361\n",
      "Epoch  11 Batch  498/1382   train_loss = 2.369\n",
      "Epoch  11 Batch  598/1382   train_loss = 2.096\n",
      "Epoch  11 Batch  698/1382   train_loss = 2.186\n",
      "Epoch  11 Batch  798/1382   train_loss = 1.879\n",
      "Epoch  11 Batch  898/1382   train_loss = 1.856\n",
      "Epoch  11 Batch  998/1382   train_loss = 1.814\n",
      "Epoch  11 Batch 1098/1382   train_loss = 2.067\n",
      "Epoch  11 Batch 1198/1382   train_loss = 2.044\n",
      "Epoch  11 Batch 1298/1382   train_loss = 2.053\n",
      "Epoch  12 Batch   16/1382   train_loss = 1.985\n",
      "Epoch  12 Batch  116/1382   train_loss = 2.640\n",
      "Epoch  12 Batch  216/1382   train_loss = 2.319\n",
      "Epoch  12 Batch  316/1382   train_loss = 1.973\n",
      "Epoch  12 Batch  416/1382   train_loss = 2.063\n",
      "Epoch  12 Batch  516/1382   train_loss = 1.125\n",
      "Epoch  12 Batch  616/1382   train_loss = 1.942\n",
      "Epoch  12 Batch  716/1382   train_loss = 1.975\n",
      "Epoch  12 Batch  816/1382   train_loss = 2.011\n",
      "Epoch  12 Batch  916/1382   train_loss = 1.826\n",
      "Epoch  12 Batch 1016/1382   train_loss = 1.979\n",
      "Epoch  12 Batch 1116/1382   train_loss = 2.161\n",
      "Epoch  12 Batch 1216/1382   train_loss = 1.765\n",
      "Epoch  12 Batch 1316/1382   train_loss = 2.042\n",
      "Epoch  13 Batch   34/1382   train_loss = 1.999\n",
      "Epoch  13 Batch  134/1382   train_loss = 2.006\n",
      "Epoch  13 Batch  234/1382   train_loss = 1.668\n",
      "Epoch  13 Batch  334/1382   train_loss = 1.798\n",
      "Epoch  13 Batch  434/1382   train_loss = 1.559\n",
      "Epoch  13 Batch  534/1382   train_loss = 1.908\n",
      "Epoch  13 Batch  634/1382   train_loss = 1.695\n",
      "Epoch  13 Batch  734/1382   train_loss = 2.280\n",
      "Epoch  13 Batch  834/1382   train_loss = 1.977\n",
      "Epoch  13 Batch  934/1382   train_loss = 1.638\n",
      "Epoch  13 Batch 1034/1382   train_loss = 1.716\n",
      "Epoch  13 Batch 1134/1382   train_loss = 1.339\n",
      "Epoch  13 Batch 1234/1382   train_loss = 2.182\n",
      "Epoch  13 Batch 1334/1382   train_loss = 1.831\n",
      "Epoch  14 Batch   52/1382   train_loss = 2.018\n",
      "Epoch  14 Batch  152/1382   train_loss = 1.537\n",
      "Epoch  14 Batch  252/1382   train_loss = 1.689\n",
      "Epoch  14 Batch  352/1382   train_loss = 1.601\n",
      "Epoch  14 Batch  452/1382   train_loss = 1.845\n",
      "Epoch  14 Batch  552/1382   train_loss = 1.335\n",
      "Epoch  14 Batch  652/1382   train_loss = 1.506\n",
      "Epoch  14 Batch  752/1382   train_loss = 1.606\n",
      "Epoch  14 Batch  852/1382   train_loss = 1.532\n",
      "Epoch  14 Batch  952/1382   train_loss = 1.540\n",
      "Epoch  14 Batch 1052/1382   train_loss = 1.881\n",
      "Epoch  14 Batch 1152/1382   train_loss = 1.422\n",
      "Epoch  14 Batch 1252/1382   train_loss = 1.430\n",
      "Epoch  14 Batch 1352/1382   train_loss = 1.401\n",
      "Epoch  15 Batch   70/1382   train_loss = 1.978\n",
      "Epoch  15 Batch  170/1382   train_loss = 1.652\n",
      "Epoch  15 Batch  270/1382   train_loss = 1.638\n",
      "Epoch  15 Batch  370/1382   train_loss = 1.592\n",
      "Epoch  15 Batch  470/1382   train_loss = 1.428\n",
      "Epoch  15 Batch  570/1382   train_loss = 1.351\n",
      "Epoch  15 Batch  670/1382   train_loss = 1.631\n",
      "Epoch  15 Batch  770/1382   train_loss = 1.416\n",
      "Epoch  15 Batch  870/1382   train_loss = 1.691\n",
      "Epoch  15 Batch  970/1382   train_loss = 1.690\n",
      "Epoch  15 Batch 1070/1382   train_loss = 1.553\n",
      "Epoch  15 Batch 1170/1382   train_loss = 1.618\n",
      "Epoch  15 Batch 1270/1382   train_loss = 1.770\n",
      "Epoch  15 Batch 1370/1382   train_loss = 1.460\n",
      "Epoch  16 Batch   88/1382   train_loss = 1.337\n",
      "Epoch  16 Batch  188/1382   train_loss = 1.644\n",
      "Epoch  16 Batch  288/1382   train_loss = 1.355\n",
      "Epoch  16 Batch  388/1382   train_loss = 1.387\n",
      "Epoch  16 Batch  488/1382   train_loss = 1.224\n",
      "Epoch  16 Batch  588/1382   train_loss = 1.395\n",
      "Epoch  16 Batch  688/1382   train_loss = 1.161\n",
      "Epoch  16 Batch  788/1382   train_loss = 1.280\n",
      "Epoch  16 Batch  888/1382   train_loss = 1.927\n",
      "Epoch  16 Batch  988/1382   train_loss = 1.057\n",
      "Epoch  16 Batch 1088/1382   train_loss = 1.511\n",
      "Epoch  16 Batch 1188/1382   train_loss = 1.813\n",
      "Epoch  16 Batch 1288/1382   train_loss = 1.367\n",
      "Epoch  17 Batch    6/1382   train_loss = 1.596\n",
      "Epoch  17 Batch  106/1382   train_loss = 1.292\n",
      "Epoch  17 Batch  206/1382   train_loss = 1.138\n",
      "Epoch  17 Batch  306/1382   train_loss = 1.404\n",
      "Epoch  17 Batch  406/1382   train_loss = 1.011\n",
      "Epoch  17 Batch  506/1382   train_loss = 0.938\n",
      "Epoch  17 Batch  606/1382   train_loss = 1.373\n",
      "Epoch  17 Batch  706/1382   train_loss = 1.038\n",
      "Epoch  17 Batch  806/1382   train_loss = 1.345\n",
      "Epoch  17 Batch  906/1382   train_loss = 1.312\n",
      "Epoch  17 Batch 1006/1382   train_loss = 1.350\n",
      "Epoch  17 Batch 1106/1382   train_loss = 1.480\n",
      "Epoch  17 Batch 1206/1382   train_loss = 1.308\n",
      "Epoch  17 Batch 1306/1382   train_loss = 1.221\n",
      "Epoch  18 Batch   24/1382   train_loss = 1.587\n",
      "Epoch  18 Batch  124/1382   train_loss = 1.236\n",
      "Epoch  18 Batch  224/1382   train_loss = 0.938\n",
      "Epoch  18 Batch  324/1382   train_loss = 0.862\n",
      "Epoch  18 Batch  424/1382   train_loss = 1.036\n",
      "Epoch  18 Batch  524/1382   train_loss = 1.094\n",
      "Epoch  18 Batch  624/1382   train_loss = 1.404\n",
      "Epoch  18 Batch  724/1382   train_loss = 1.345\n",
      "Epoch  18 Batch  824/1382   train_loss = 1.077\n",
      "Epoch  18 Batch  924/1382   train_loss = 1.090\n",
      "Epoch  18 Batch 1024/1382   train_loss = 1.050\n",
      "Epoch  18 Batch 1124/1382   train_loss = 1.080\n",
      "Epoch  18 Batch 1224/1382   train_loss = 1.247\n",
      "Epoch  18 Batch 1324/1382   train_loss = 1.500\n",
      "Epoch  19 Batch   42/1382   train_loss = 1.360\n",
      "Epoch  19 Batch  142/1382   train_loss = 1.059\n",
      "Epoch  19 Batch  242/1382   train_loss = 1.197\n",
      "Epoch  19 Batch  342/1382   train_loss = 1.155\n",
      "Epoch  19 Batch  442/1382   train_loss = 1.305\n",
      "Epoch  19 Batch  542/1382   train_loss = 1.009\n",
      "Epoch  19 Batch  642/1382   train_loss = 0.989\n",
      "Epoch  19 Batch  742/1382   train_loss = 1.414\n",
      "Epoch  19 Batch  842/1382   train_loss = 1.077\n",
      "Epoch  19 Batch  942/1382   train_loss = 0.775\n",
      "Epoch  19 Batch 1042/1382   train_loss = 1.294\n",
      "Epoch  19 Batch 1142/1382   train_loss = 1.121\n",
      "Epoch  19 Batch 1242/1382   train_loss = 1.101\n",
      "Epoch  19 Batch 1342/1382   train_loss = 1.034\n",
      "Model Trained and Saved\n"
     ]
    }
   ],
   "source": [
    "\"\"\"\n",
    "DON'T MODIFY ANYTHING IN THIS CELL\n",
    "\"\"\"\n",
    "batches = get_batches(int_text, batch_size, seq_length)\n",
    "\n",
    "with tf.Session(graph=train_graph) as sess:\n",
    "    sess.run(tf.global_variables_initializer())\n",
    "\n",
    "    for epoch_i in range(num_epochs):\n",
    "        state = sess.run(initial_state, {input_text: batches[0][0]})\n",
    "\n",
    "        for batch_i, (x, y) in enumerate(batches):\n",
    "            feed = {\n",
    "                input_text: x,\n",
    "                targets: y,\n",
    "                initial_state: state,\n",
    "                lr: learning_rate}\n",
    "            train_loss, state, _ = sess.run([cost, final_state, train_op], feed)\n",
    "\n",
    "            # Show every <show_every_n_batches> batches\n",
    "            if (epoch_i * len(batches) + batch_i) % show_every_n_batches == 0:\n",
    "                print('Epoch {:>3} Batch {:>4}/{}   train_loss = {:.3f}'.format(\n",
    "                    epoch_i,\n",
    "                    batch_i,\n",
    "                    len(batches),\n",
    "                    train_loss))\n",
    "\n",
    "    # Save Model\n",
    "    saver = tf.train.Saver()\n",
    "    saver.save(sess, save_dir)\n",
    "    print('Model Trained and Saved')"
   ]
  },
  {
   "cell_type": "markdown",
   "metadata": {
    "deletable": true,
    "editable": true
   },
   "source": [
    "## Save Parameters\n",
    "Save `seq_length` and `save_dir` for generating a new TV script."
   ]
  },
  {
   "cell_type": "code",
   "execution_count": 156,
   "metadata": {
    "collapsed": false,
    "deletable": true,
    "editable": true
   },
   "outputs": [],
   "source": [
    "\"\"\"\n",
    "DON'T MODIFY ANYTHING IN THIS CELL\n",
    "\"\"\"\n",
    "# Save parameters for checkpoint\n",
    "helper.save_params((seq_length, save_dir))"
   ]
  },
  {
   "cell_type": "markdown",
   "metadata": {
    "deletable": true,
    "editable": true
   },
   "source": [
    "# Checkpoint"
   ]
  },
  {
   "cell_type": "code",
   "execution_count": 157,
   "metadata": {
    "collapsed": false,
    "deletable": true,
    "editable": true
   },
   "outputs": [],
   "source": [
    "\"\"\"\n",
    "DON'T MODIFY ANYTHING IN THIS CELL\n",
    "\"\"\"\n",
    "import tensorflow as tf\n",
    "import numpy as np\n",
    "import helper\n",
    "import problem_unittests as tests\n",
    "\n",
    "_, vocab_to_int, int_to_vocab, token_dict = helper.load_preprocess()\n",
    "seq_length, load_dir = helper.load_params()"
   ]
  },
  {
   "cell_type": "markdown",
   "metadata": {
    "deletable": true,
    "editable": true
   },
   "source": [
    "## Implement Generate Functions\n",
    "### Get Tensors\n",
    "Get tensors from `loaded_graph` using the function [`get_tensor_by_name()`](https://www.tensorflow.org/api_docs/python/tf/Graph#get_tensor_by_name).  Get the tensors using the following names:\n",
    "- \"input:0\"\n",
    "- \"initial_state:0\"\n",
    "- \"final_state:0\"\n",
    "- \"probs:0\"\n",
    "\n",
    "Return the tensors in the following tuple `(InputTensor, InitialStateTensor, FinalStateTensor, ProbsTensor)` "
   ]
  },
  {
   "cell_type": "code",
   "execution_count": 158,
   "metadata": {
    "collapsed": false,
    "deletable": true,
    "editable": true
   },
   "outputs": [
    {
     "name": "stdout",
     "output_type": "stream",
     "text": [
      "Tests Passed\n"
     ]
    }
   ],
   "source": [
    "def get_tensors(loaded_graph):\n",
    "    \"\"\"\n",
    "    Get input, initial state, final state, and probabilities tensor from <loaded_graph>\n",
    "    :param loaded_graph: TensorFlow graph loaded from file\n",
    "    :return: Tuple (InputTensor, InitialStateTensor, FinalStateTensor, ProbsTensor)\n",
    "    \"\"\"\n",
    "    # TODO: Implement Function\n",
    "    InputTensor = loaded_graph.get_tensor_by_name(\"input:0\")\n",
    "    InitialStateTensor = loaded_graph.get_tensor_by_name(\"initial_state:0\")\n",
    "    FinalStateTensor = loaded_graph.get_tensor_by_name(\"final_state:0\")\n",
    "    ProbsTensor = loaded_graph.get_tensor_by_name(\"probs:0\")\n",
    "    return (InputTensor, InitialStateTensor, FinalStateTensor, ProbsTensor)\n",
    "\n",
    "\n",
    "\"\"\"\n",
    "DON'T MODIFY ANYTHING IN THIS CELL THAT IS BELOW THIS LINE\n",
    "\"\"\"\n",
    "tests.test_get_tensors(get_tensors)"
   ]
  },
  {
   "cell_type": "markdown",
   "metadata": {
    "deletable": true,
    "editable": true
   },
   "source": [
    "### Choose Word\n",
    "Implement the `pick_word()` function to select the next word using `probabilities`."
   ]
  },
  {
   "cell_type": "code",
   "execution_count": 159,
   "metadata": {
    "collapsed": false,
    "deletable": true,
    "editable": true
   },
   "outputs": [
    {
     "name": "stdout",
     "output_type": "stream",
     "text": [
      "Tests Passed\n"
     ]
    }
   ],
   "source": [
    "def pick_word(probabilities, int_to_vocab):\n",
    "    \"\"\"\n",
    "    Pick the next word in the generated text\n",
    "    :param probabilities: Probabilites of the next word\n",
    "    :param int_to_vocab: Dictionary of word ids as the keys and words as the values\n",
    "    :return: String of the predicted word\n",
    "    \"\"\"\n",
    "    # TODO: Implement Function\n",
    "    return int_to_vocab[np.argmax(probabilities)]\n",
    "\n",
    "\n",
    "\"\"\"\n",
    "DON'T MODIFY ANYTHING IN THIS CELL THAT IS BELOW THIS LINE\n",
    "\"\"\"\n",
    "tests.test_pick_word(pick_word)"
   ]
  },
  {
   "cell_type": "markdown",
   "metadata": {
    "deletable": true,
    "editable": true
   },
   "source": [
    "## Generate TV Script\n",
    "This will generate the TV script for you.  Set `gen_length` to the length of TV script you want to generate."
   ]
  },
  {
   "cell_type": "code",
   "execution_count": 160,
   "metadata": {
    "collapsed": false,
    "deletable": true,
    "editable": true
   },
   "outputs": [
    {
     "name": "stdout",
     "output_type": "stream",
     "text": [
      "moe_szyslak:(simultaneous) i/you could put on our head of watching that pretending did a karaoke for nothing into myself on?\n",
      "lenny_leonard: hey, i'm glad i english about it.\n",
      "carl_carlson: oh, yeah.\n",
      "grampa_simpson: hey, i've got a chocolate here?\n",
      "moe_szyslak: yeah, but then i'm not hope what made it pizzicato.\n",
      "homer_simpson: i think you're taking than ya.\n",
      "\n",
      "\n",
      "homer_simpson:(hanging up) oh, now, i've got us for our time!\n",
      "declan_desmond: moe, it's like when it knows!\n",
      "homer_simpson:(considers) respect guys, i've got too night with their pants / that much by my samples that!\n",
      "homer_simpson:(lying) oh, it was comin' in the bar.\n",
      "homer_simpson:(dying) i've gotta be a time now changing a world back with the drink!\n",
      "lise: now, i'm out.\n",
      "lenny_leonard: come to my life is talkin' for this year's friends, homer?\n",
      "homer_simpson: oh, i gotta forget that other connection at talkin' for a secret since history.\n",
      "carl_carlson: hey\n"
     ]
    }
   ],
   "source": [
    "gen_length = 200\n",
    "# homer_simpson, moe_szyslak, or Barney_Gumble\n",
    "prime_word = 'moe_szyslak'\n",
    "\n",
    "\"\"\"\n",
    "DON'T MODIFY ANYTHING IN THIS CELL THAT IS BELOW THIS LINE\n",
    "\"\"\"\n",
    "loaded_graph = tf.Graph()\n",
    "with tf.Session(graph=loaded_graph) as sess:\n",
    "    # Load saved model\n",
    "    loader = tf.train.import_meta_graph(load_dir + '.meta')\n",
    "    loader.restore(sess, load_dir)\n",
    "\n",
    "    # Get Tensors from loaded model\n",
    "    input_text, initial_state, final_state, probs = get_tensors(loaded_graph)\n",
    "\n",
    "    # Sentences generation setup\n",
    "    gen_sentences = [prime_word + ':']\n",
    "    prev_state = sess.run(initial_state, {input_text: np.array([[1]])})\n",
    "\n",
    "    # Generate sentences\n",
    "    for n in range(gen_length):\n",
    "        # Dynamic Input\n",
    "        dyn_input = [[vocab_to_int[word] for word in gen_sentences[-seq_length:]]]\n",
    "        dyn_seq_length = len(dyn_input[0])\n",
    "\n",
    "        # Get Prediction\n",
    "        probabilities, prev_state = sess.run(\n",
    "            [probs, final_state],\n",
    "            {input_text: dyn_input, initial_state: prev_state})\n",
    "        \n",
    "        pred_word = pick_word(probabilities[dyn_seq_length-1], int_to_vocab)\n",
    "\n",
    "        gen_sentences.append(pred_word)\n",
    "    \n",
    "    # Remove tokens\n",
    "    tv_script = ' '.join(gen_sentences)\n",
    "    for key, token in token_dict.items():\n",
    "        ending = ' ' if key in ['\\n', '(', '\"'] else ''\n",
    "        tv_script = tv_script.replace(' ' + token.lower(), key)\n",
    "    tv_script = tv_script.replace('\\n ', '\\n')\n",
    "    tv_script = tv_script.replace('( ', '(')\n",
    "        \n",
    "    print(tv_script)"
   ]
  },
  {
   "cell_type": "markdown",
   "metadata": {
    "deletable": true,
    "editable": true
   },
   "source": [
    "# The TV Script is Nonsensical\n",
    "It's ok if the TV script doesn't make any sense.  We trained on less than a megabyte of text.  In order to get good results, you'll have to use a smaller vocabulary or get more data.  Luckly there's more data!  As we mentioned in the begging of this project, this is a subset of [another dataset](https://www.kaggle.com/wcukierski/the-simpsons-by-the-data).  We didn't have you train on all the data, because that would take too long.  However, you are free to train your neural network on all the data.  After you complete the project, of course.\n",
    "# Submitting This Project\n",
    "When submitting this project, make sure to run all the cells before saving the notebook. Save the notebook file as \"dlnd_tv_script_generation.ipynb\" and save it as a HTML file under \"File\" -> \"Download as\". Include the \"helper.py\" and \"problem_unittests.py\" files in your submission."
   ]
  }
 ],
 "metadata": {
  "kernelspec": {
   "display_name": "Python 3",
   "language": "python",
   "name": "python3"
  },
  "language_info": {
   "codemirror_mode": {
    "name": "ipython",
    "version": 3
   },
   "file_extension": ".py",
   "mimetype": "text/x-python",
   "name": "python",
   "nbconvert_exporter": "python",
   "pygments_lexer": "ipython3",
   "version": "3.5.2"
  }
 },
 "nbformat": 4,
 "nbformat_minor": 0
}
